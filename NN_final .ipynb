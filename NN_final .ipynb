{
 "cells": [
  {
   "cell_type": "code",
   "execution_count": 10,
   "id": "47d2023a-03c1-4d0f-b9dd-3d020def156d",
   "metadata": {},
   "outputs": [],
   "source": [
    "import numpy as np\n",
    "import pandas as pd\n",
    "from math import *"
   ]
  },
  {
   "cell_type": "code",
   "execution_count": 11,
   "id": "33ce95d6-e51b-4aec-b93e-dc18e7c9d1da",
   "metadata": {},
   "outputs": [],
   "source": [
    "def sigmoid(z):\n",
    "    return 0.5 * (1 + np.tanh(0.5 * z))\n",
    "\n",
    "def initialize_weights(input_size, hidden_size, output_size):\n",
    "    weights1 = np.ones((input_size, hidden_size)) \n",
    "    weights2 = np.ones((hidden_size, output_size)) \n",
    "    return weights1, weights2"
   ]
  },
  {
   "cell_type": "code",
   "execution_count": 12,
   "id": "22b520f5-f7d9-49bc-a939-21898d6ebb8b",
   "metadata": {},
   "outputs": [],
   "source": [
    "def forward_propagation(X, weights1, weights2):\n",
    "    hidden_layer = sigmoid(np.dot(X, weights1))\n",
    "    output_layer = sigmoid(np.dot(hidden_layer, weights2))\n",
    "    return hidden_layer, output_layer\n",
    "\n",
    "def calculate_error(y, output_layer):\n",
    "    error = y - output_layer\n",
    "    return error\n",
    "\n",
    "def backward_propagation(X, hidden_layer, error, weights2):\n",
    "    hidden_error = np.dot(error, weights2.T) * (hidden_layer * (1 - hidden_layer))\n",
    "    \n",
    "    weights1_update = np.dot(X.T, hidden_error)\n",
    "    weights2_update = np.dot(hidden_layer.T, error)\n",
    "    \n",
    "    return weights1_update, weights2_update\n",
    "\n",
    "def update_weights(weights1, weights2, weights1_update, weights2_update, learning_rate):\n",
    "    \n",
    "    weights1 += learning_rate * weights1_update\n",
    "    weights2 += learning_rate * weights2_update\n",
    "    \n",
    "    return weights1, weights2\n",
    "\n",
    "def train(X, y, hidden_size, learning_rate, epochs):\n",
    "    \n",
    "    input_size = X.shape[1]\n",
    "    output_size = y.shape[1]\n",
    "    weights1, weights2 = initialize_weights(input_size, hidden_size, output_size)\n",
    "    \n",
    "\n",
    "    for i in range(epochs):\n",
    "    \n",
    "        hidden_layer, output_layer = forward_propagation(X, weights1, weights2)\n",
    "        \n",
    "        error = calculate_error(y, output_layer)\n",
    "        \n",
    "        weights1_update, weights2_update = backward_propagation(X, hidden_layer, error, weights2)\n",
    "        \n",
    "        weights1, weights2 = update_weights(weights1, weights2, weights1_update, weights2_update, learning_rate)\n",
    "    \n",
    "    return weights1, weights2, output_layer"
   ]
  },
  {
   "cell_type": "code",
   "execution_count": 13,
   "id": "15cdbe9d-ba9a-41fa-8b1c-fde15454fb9c",
   "metadata": {},
   "outputs": [],
   "source": [
    "data = pd.read_csv('classification_train.csv')\n",
    "df = data.to_numpy()"
   ]
  },
  {
   "cell_type": "code",
   "execution_count": 14,
   "id": "085756c5-8719-4fbe-afb4-e719807aeddd",
   "metadata": {},
   "outputs": [],
   "source": [
    "# One-hot encode the 'Gender' column\n",
    "gender_onehot = pd.get_dummies(data['label'])\n",
    "\n",
    "# Concatenate the one-hot encoded columns with the original dataframe\n",
    "df = pd.concat([data, gender_onehot], axis=1)\n",
    "\n",
    "# Drop the original 'Gender' column\n",
    "df = df.drop('label', axis=1)\n",
    "\n",
    "df_1 = df.to_numpy()\n",
    "y_train = df_1[:, 785:796]\n",
    "x_train = df_1[:, 1:785]"
   ]
  },
  {
   "cell_type": "code",
   "execution_count": 15,
   "id": "a712c620-311c-47d6-9988-09f028daa7fe",
   "metadata": {},
   "outputs": [],
   "source": [
    "# Learning rate\n",
    "learning_rate = 1.0e-10\n",
    "hidden_size = 784\n",
    "output_size = 10\n",
    "epochs = 10000"
   ]
  },
  {
   "cell_type": "code",
   "execution_count": null,
   "id": "7c7cb24b-0299-40b6-b50b-6ede766666ba",
   "metadata": {},
   "outputs": [],
   "source": [
    "weights1, weights2, output_layer = train(x_train, y_train, hidden_size, output_size, epochs)"
   ]
  },
  {
   "cell_type": "code",
   "execution_count": null,
   "id": "e98ddc01-5886-405b-9e67-9ddc0823833d",
   "metadata": {},
   "outputs": [],
   "source": [
    "test_data = pd.read_csv('classification_test.csv')\n",
    "test_df = test_data.to_numpy()"
   ]
  },
  {
   "cell_type": "code",
   "execution_count": null,
   "id": "073a2f81-2341-4302-858d-772436db13ab",
   "metadata": {},
   "outputs": [],
   "source": [
    "x_test = test_df[:, 1:785]\n",
    "\n",
    "z = np.dot(x_test, weights1)\n",
    "z2 = sigmoid(z)\n",
    "z3 = np.dot(z2, weights2)\n",
    "output = sigmoid(z3)\n",
    "print(f\" Largest Prediction index for each row: {np.argmax(output, axis=1)}\")"
   ]
  },
  {
   "cell_type": "code",
   "execution_count": null,
   "id": "1824a41d-2a73-4bfa-a0c2-b06db970fc34",
   "metadata": {},
   "outputs": [],
   "source": []
  }
 ],
 "metadata": {
  "kernelspec": {
   "display_name": "Python 3 (ipykernel)",
   "language": "python",
   "name": "python3"
  },
  "language_info": {
   "codemirror_mode": {
    "name": "ipython",
    "version": 3
   },
   "file_extension": ".py",
   "mimetype": "text/x-python",
   "name": "python",
   "nbconvert_exporter": "python",
   "pygments_lexer": "ipython3",
   "version": "3.9.13"
  }
 },
 "nbformat": 4,
 "nbformat_minor": 5
}
