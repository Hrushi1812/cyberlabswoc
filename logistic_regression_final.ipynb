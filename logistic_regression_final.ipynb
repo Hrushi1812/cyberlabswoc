{
 "cells": [
  {
   "cell_type": "code",
   "execution_count": 31,
   "id": "bcd037cd-16e0-4517-90ea-f405418ae5a4",
   "metadata": {},
   "outputs": [],
   "source": [
    "import numpy as np\n",
    "import pandas as pd"
   ]
  },
  {
   "cell_type": "code",
   "execution_count": 32,
   "id": "ecdef10f-24fa-4503-a67f-76155e481eea",
   "metadata": {},
   "outputs": [],
   "source": [
    "def softmax(x):\n",
    "    # Compute the softmax of each row of the input x\n",
    "    exp_x = np.exp(x - np.max(x, axis=1, keepdims=True))\n",
    "    return exp_x / np.sum(exp_x, axis=1, keepdims=True)\n",
    "\n",
    "def logistic_regression(x, y, learning_rate=0.0001, num_iterations=1000):\n",
    "    # Initialize the weights and bias\n",
    "    num_features = x.shape[1]\n",
    "    num_classes = y.shape[1]\n",
    "    W = np.zeros((num_features, num_classes))\n",
    "    b = np.zeros(num_classes)\n",
    "    \n",
    "    # Perform gradient descent\n",
    "    for i in range(num_iterations):\n",
    "        # Compute the predicted class probabilities\n",
    "        z = np.dot(x, W) + b\n",
    "        y_hat = softmax(z)\n",
    "        \n",
    "        # Compute the gradient of the cost function with respect to W and b\n",
    "        dW = (1 / x.shape[0]) * np.dot(x.T, y_hat - y)\n",
    "        db = (1 / x.shape[0]) * np.sum(y_hat - y, axis=0)\n",
    "        \n",
    "        # Update the weights and bias\n",
    "        W = W - learning_rate * dW\n",
    "        b = b - learning_rate * db\n",
    "    \n",
    "    return W, b"
   ]
  },
  {
   "cell_type": "code",
   "execution_count": 33,
   "id": "b6790b9d-73bc-46b3-b24a-7dc2ea34f17c",
   "metadata": {},
   "outputs": [],
   "source": [
    "def sigmoid(z):\n",
    "    \n",
    "    g = 1/(1+np.exp(-z))\n",
    "    \n",
    "    return g"
   ]
  },
  {
   "cell_type": "code",
   "execution_count": 34,
   "id": "67fd259e-cd45-4f26-88a4-d30afc154af9",
   "metadata": {},
   "outputs": [],
   "source": [
    "def predict(X, w, b): \n",
    "    \n",
    "    m, n = X.shape   \n",
    "    p = np.zeros(m)\n",
    "   \n",
    "    z_wb = sigmoid(np.dot(X, w) + b)\n",
    "        \n",
    "    p = (z_wb > 0.5).astype(int)\n",
    "        \n",
    "    return p"
   ]
  },
  {
   "cell_type": "code",
   "execution_count": 35,
   "id": "01f02a7f-9ef3-48b8-9e22-9bc32450d612",
   "metadata": {},
   "outputs": [],
   "source": [
    "data = pd.read_csv('classification_train.csv')\n",
    "df = data.to_numpy()"
   ]
  },
  {
   "cell_type": "code",
   "execution_count": 36,
   "id": "42b5eaf1-86a1-43eb-9a7f-623579e0a6fd",
   "metadata": {},
   "outputs": [],
   "source": [
    "# One-hot encode the 'Gender' column\n",
    "gender_onehot = pd.get_dummies(data['label'])\n",
    "\n",
    "# Concatenate the one-hot encoded columns with the original dataframe\n",
    "df = pd.concat([data, gender_onehot], axis=1)\n",
    "\n",
    "# Drop the original 'Gender' column\n",
    "df = df.drop('label', axis=1)\n",
    "\n",
    "df_1 = df.to_numpy()\n",
    "y_train = df_1[:, 785:796]\n",
    "x_train = df_1[:, 1:785]"
   ]
  },
  {
   "cell_type": "code",
   "execution_count": 37,
   "id": "fb816eb9-0f79-43f5-b4b9-e25199f2791e",
   "metadata": {},
   "outputs": [
    {
     "name": "stdout",
     "output_type": "stream",
     "text": [
      "final matrix of w is [[-1.28099741e-06 -2.76154527e-07 -1.34562372e-05 ... -3.63525660e-08\n",
      "  -1.83417508e-06 -6.18867787e-08]\n",
      " [ 2.43023555e-05 -3.41432035e-06 -3.28711575e-05 ... -2.32687762e-07\n",
      "   3.52397007e-06  2.48128181e-06]\n",
      " [ 2.06739393e-04 -1.85512378e-05 -4.21151565e-07 ... -1.26071281e-06\n",
      "  -8.43397639e-04 -1.03873152e-05]\n",
      " ...\n",
      " [-2.22058855e-03 -7.65038266e-04  4.38492876e-03 ... -2.17060912e-04\n",
      "  -3.36243732e-03  3.58737336e-04]\n",
      " [-7.22118143e-04 -4.13073558e-04  2.21557187e-03 ... -9.96814586e-05\n",
      "  -2.64499528e-03 -2.56472761e-04]\n",
      " [-2.66718502e-05 -3.24277174e-05  7.46475714e-04 ... -1.11875544e-05\n",
      "  -7.31206630e-04 -4.86697017e-05]] and final value of b is [ 1.06629094e-04 -4.82661215e-05  1.68854450e-05  1.16811901e-04\n",
      " -6.51155138e-04  6.29645200e-04  3.77466587e-04 -8.29655381e-05\n",
      " -1.20306895e-04 -3.44744534e-04]\n"
     ]
    }
   ],
   "source": [
    "W, b = logistic_regression(x_train, y_train)\n",
    "print(f\"final matrix of w is {W} and final value of b is {b}\")"
   ]
  },
  {
   "cell_type": "code",
   "execution_count": 44,
   "id": "34fe5138-b0b9-4776-b3e5-dabacfa725ee",
   "metadata": {},
   "outputs": [],
   "source": [
    "test_data = pd.read_csv('classification_test.csv')\n",
    "test_df = test_data.to_numpy()"
   ]
  },
  {
   "cell_type": "code",
   "execution_count": 52,
   "id": "fa29a6d9-3b1f-4377-80d3-366517112b9b",
   "metadata": {},
   "outputs": [
    {
     "name": "stdout",
     "output_type": "stream",
     "text": [
      " Largest Prediction index for each row: [0 1 2 ... 5 6 1]\n"
     ]
    }
   ],
   "source": [
    "x_test = test_df[:, 1:785]\n",
    "z = np.dot(x_test, W) + b\n",
    "output = sigmoid(z)\n",
    "print(f\" Largest Prediction index for each row: {np.argmax(output, axis=1)}\")"
   ]
  }
 ],
 "metadata": {
  "kernelspec": {
   "display_name": "Python 3 (ipykernel)",
   "language": "python",
   "name": "python3"
  },
  "language_info": {
   "codemirror_mode": {
    "name": "ipython",
    "version": 3
   },
   "file_extension": ".py",
   "mimetype": "text/x-python",
   "name": "python",
   "nbconvert_exporter": "python",
   "pygments_lexer": "ipython3",
   "version": "3.9.13"
  }
 },
 "nbformat": 4,
 "nbformat_minor": 5
}
