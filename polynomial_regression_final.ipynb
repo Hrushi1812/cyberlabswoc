{
 "cells": [
  {
   "cell_type": "code",
   "execution_count": 7,
   "id": "1447c85d-883f-4a32-9171-b27b0b9e661e",
   "metadata": {},
   "outputs": [],
   "source": [
    "import pandas as pd\n",
    "import numpy as np\n",
    "import matplotlib.pyplot as plt"
   ]
  },
  {
   "cell_type": "code",
   "execution_count": 8,
   "id": "5761596e-a6ab-412a-966b-4187f5bc6b1f",
   "metadata": {},
   "outputs": [],
   "source": [
    "def cost(x, y, w, b):\n",
    "    m = x.shape[0]\n",
    "    f_x = np.dot(x, w) + b\n",
    "    cost = np.sum((f_x - y) ** 2)\n",
    "    cost_final = cost / (2 * m)\n",
    "    \n",
    "    return cost_final"
   ]
  },
  {
   "cell_type": "code",
   "execution_count": 9,
   "id": "cfe5c8aa-a9cf-4e3f-a73c-049fca27260f",
   "metadata": {},
   "outputs": [],
   "source": [
    "def cost_reg(x, y, w, b, lambda_):\n",
    "    \n",
    "    m = x.shape[0]\n",
    "    \n",
    "    cost_without = cost(x, y, w, b)\n",
    "    \n",
    "    cost_with = (lambda_/(2*m)) * np.sum(np.abs(w))\n",
    "    \n",
    "    reg_cost = cost_without + cost_with\n",
    "    \n",
    "    return reg_cost"
   ]
  },
  {
   "cell_type": "code",
   "execution_count": 10,
   "id": "dbeb39cf-d77b-49f8-882b-a9f4f4d9f104",
   "metadata": {},
   "outputs": [],
   "source": [
    "def gradient(x, y, w, b):\n",
    "    \n",
    "    m,n = x.shape\n",
    "    f_x = np.dot(x, w) + b\n",
    "    er = f_x - y\n",
    "    dj_dw = np.dot(x.T, er) / m\n",
    "    dj_db = np.sum(er) / m\n",
    "    \n",
    "    return dj_dw, dj_db"
   ]
  },
  {
   "cell_type": "code",
   "execution_count": 11,
   "id": "e64d1daa-9aed-497c-93a0-e70bb2bd7f18",
   "metadata": {},
   "outputs": [],
   "source": [
    "def grad_reg(x, y, w, b):\n",
    "    \n",
    "    m = x.shape[0]\n",
    "    \n",
    "    dj_dw , dj_db = gradient(x, y, w, b)\n",
    "    \n",
    "    dj_dw_reg = (lambda_ / 2*m) \n",
    "    dj_dw += dj_dw_reg\n",
    "    \n",
    "    return dj_dw, dj_db"
   ]
  },
  {
   "cell_type": "code",
   "execution_count": 12,
   "id": "39174b9c-276e-4347-b95c-b1220cd68dca",
   "metadata": {},
   "outputs": [],
   "source": [
    "def grad_dec(no_of_iterations, x, y, w_ini, b_ini, alpha, cost_interval=1000):\n",
    "    \n",
    "    m = x.shape[0]\n",
    "    w = w_ini\n",
    "    b = b_ini\n",
    "    J = []\n",
    "    \n",
    "    for i in range(no_of_iterations):\n",
    "        \n",
    "        dj_dw, dj_db = grad_reg(x, y, w, b)\n",
    "\n",
    "        w -= alpha * dj_dw\n",
    "        b -= alpha * dj_db\n",
    "        \n",
    "        if i % cost_interval == 0:\n",
    "            cost_ = cost(x, y, w, b)\n",
    "            J.append(cost_)\n",
    "    return w, b , J"
   ]
  },
  {
   "cell_type": "code",
   "execution_count": 13,
   "id": "9b1823f5-fa5a-4edd-b188-e1acfeda117e",
   "metadata": {},
   "outputs": [],
   "source": [
    "def split_train_test_cv(X, y, test_size=0.2, cv_size=0.2, random_state=None):\n",
    "    \"\"\"Splits the dataset into training, testing, and cross-validation sets.\"\"\"\n",
    "    if random_state is not None:\n",
    "        np.random.seed(random_state)\n",
    "    n_samples = X.shape[0]\n",
    "    n_test = int(n_samples * test_size)\n",
    "    n_cv = int(n_samples * cv_size)\n",
    "    test_indices = np.random.choice(n_samples, n_test, replace=False)\n",
    "    cv_indices = np.random.choice(np.setdiff1d(np.arange(n_samples), test_indices), n_cv, replace=False)\n",
    "    train_indices = np.setdiff1d(np.arange(n_samples), np.concatenate((test_indices, cv_indices)))\n",
    "    X_train, y_train = X[train_indices], y[train_indices]\n",
    "    X_test, y_test = X[test_indices], y[test_indices]\n",
    "    X_cv, y_cv = X[cv_indices], y[cv_indices]\n",
    "    return X_train, X_test, X_cv, y_train, y_test, y_cv\n"
   ]
  },
  {
   "cell_type": "code",
   "execution_count": 14,
   "id": "952f816c-2cd1-4ff9-b8e3-e286162d1068",
   "metadata": {},
   "outputs": [],
   "source": [
    "data = pd.read_csv('polynomial_train.csv')\n",
    "df = data.to_numpy()"
   ]
  },
  {
   "cell_type": "code",
   "execution_count": 15,
   "id": "8f0f8c3e-7378-44a0-bd6c-0ce3aae6c9fe",
   "metadata": {},
   "outputs": [],
   "source": [
    "x_train = df[0:30000, 0:3]\n",
    "x_cv = df[30000:40000, 0:3]\n",
    "x_test = df[40000:50001, 0:3]\n",
    "y_train = df[0:30000, 3]\n",
    "y_cv = df[30000:40000, 3]\n",
    "y_test = df[40000:50001, 3]\n",
    "\n",
    "X1 = x_train[:, 0]\n",
    "X2 = x_train[:, 1]\n",
    "X3 = x_train[:, 2]\n",
    "\n",
    "X4 = x_test[:, 0]\n",
    "X5 = x_test[:, 1]\n",
    "X6 = x_test[:, 2]\n",
    "\n",
    "X7 = x_cv[:, 0]\n",
    "X8 = x_cv[:, 1]\n",
    "X9 = x_cv[:, 2]\n",
    "\n",
    "terms_train = [X1**i * X2**j * X3**k for i in range(6) for j in range(6) for k in range(6) if i+j+k <= 5 and i+j+k >= 1]\n",
    "terms_test = [X4**i * X5**j * X6**k for i in range(6) for j in range(6) for k in range(6) if i+j+k <= 5 and i+j+k >= 1]\n",
    "terms_cv = [X7**i * X8**j * X9**k for i in range(8) for j in range(6) for k in range(6) if i+j+k <= 5 and i+j+k >= 1]\n",
    "\n",
    "X_train = np.array(terms_train).T\n",
    "X_test = np.array(terms_test).T\n",
    "X_cv = np.array(terms_cv).T\n"
   ]
  },
  {
   "cell_type": "code",
   "execution_count": 16,
   "id": "80d1e672-0ee9-4a0d-b2ff-cb324d01c638",
   "metadata": {},
   "outputs": [
    {
     "name": "stdout",
     "output_type": "stream",
     "text": [
      "final matrix of w is [-1.05884393e-28 -6.82375145e-26  1.57742834e-23 -3.88174478e-21\n",
      "  1.00141360e-18  2.60633342e-28 -8.22257966e-26  1.31885855e-23\n",
      " -2.49997991e-21  5.22612791e-19 -9.41662232e-25  2.09907956e-22\n",
      " -5.09370575e-20  1.29909515e-17  1.16016178e-21 -2.01682453e-19\n",
      "  3.87840308e-17 -1.43765962e-18  1.41124166e-16 -2.64058063e-15\n",
      "  5.83752628e-27 -7.51281872e-25  1.30788971e-22 -2.58106613e-20\n",
      "  5.57930634e-18 -1.73788758e-23  3.79719927e-21 -8.23258972e-19\n",
      "  1.89366071e-16  2.00181587e-20 -2.40242423e-18  3.86120101e-16\n",
      " -2.61739515e-18  2.39735001e-15  8.82679408e-14 -4.66995708e-23\n",
      "  9.54061320e-21 -2.00397709e-18  4.53017567e-16  7.31183372e-21\n",
      "  4.71669656e-20 -1.34628571e-16 -2.31033437e-17  5.63513457e-15\n",
      "  1.41762276e-14  7.22144053e-20 -4.82364952e-18  1.12525118e-15\n",
      " -8.36097849e-16  1.72264212e-13  2.92565845e-13 -2.35576642e-15\n",
      "  4.88155122e-13  1.43547595e-13  4.65996403e-13] and final value of b is 1.0\n"
     ]
    }
   ],
   "source": [
    "n = X_train.shape[1]\n",
    "w_ini = np.zeros(n)\n",
    "b = 1\n",
    "alpha = 7.0e-38\n",
    "lambda_ = 4\n",
    "w, b, J = grad_dec(no_of_iterations = 100000, x = X_train, y = y_train, w_ini = w_ini, b_ini = b, alpha = alpha)\n",
    "print(f\"final matrix of w is {w} and final value of b is {b}\")"
   ]
  },
  {
   "cell_type": "code",
   "execution_count": 17,
   "id": "40beab24-4c63-4678-ba44-9974bc392348",
   "metadata": {},
   "outputs": [
    {
     "name": "stdout",
     "output_type": "stream",
     "text": [
      "RMSE: 2457.48\n"
     ]
    }
   ],
   "source": [
    "y_train_out = np.dot(X_train, w) + b\n",
    "rmse = np.sqrt(np.mean((y_train - y_train_out)**2))\n",
    "print(f\"RMSE: {rmse:.2f}\")"
   ]
  },
  {
   "cell_type": "code",
   "execution_count": 18,
   "id": "dfe0565e-526c-453a-bdb2-54299e862e1e",
   "metadata": {},
   "outputs": [
    {
     "name": "stdout",
     "output_type": "stream",
     "text": [
      "RMSE: 2497.86\n"
     ]
    }
   ],
   "source": [
    "y_cv_out = np.dot(X_cv, w) + b\n",
    "rmse = np.sqrt(np.mean((y_cv - y_cv_out)**2))\n",
    "print(f\"RMSE: {rmse:.2f}\")"
   ]
  },
  {
   "cell_type": "code",
   "execution_count": 19,
   "id": "3d73294a-7039-4881-87f4-4a0085c6cd49",
   "metadata": {},
   "outputs": [
    {
     "name": "stdout",
     "output_type": "stream",
     "text": [
      "RMSE: 2878.81\n"
     ]
    }
   ],
   "source": [
    "y_test_out = np.dot(X_test, w) + b\n",
    "rmse = np.sqrt(np.mean((y_test - y_test_out)**2))\n",
    "print(f\"RMSE: {rmse:.2f}\")"
   ]
  },
  {
   "cell_type": "code",
   "execution_count": 20,
   "id": "7d86ace2-4917-4b42-88cc-bd1a9b682ae9",
   "metadata": {},
   "outputs": [],
   "source": [
    "test_data = pd.read_csv('polynomial_test_data.csv')\n",
    "test_data = test_data.drop('ids', axis = 1)\n",
    "test_df = test_data.to_numpy()"
   ]
  },
  {
   "cell_type": "code",
   "execution_count": 22,
   "id": "a6d2d97b-fda4-4d74-ae00-5fa1c5439df0",
   "metadata": {},
   "outputs": [
    {
     "name": "stdout",
     "output_type": "stream",
     "text": [
      "[-4.88011597e+02  2.44046807e+05  4.99260485e+03 ...  1.11114193e+02\n",
      "  9.94662136e-01 -1.10645919e+05]\n"
     ]
    }
   ],
   "source": [
    "x_test = test_df[:, 0:3]\n",
    "\n",
    "X1 = x_test[:, 0]\n",
    "X2 = x_test[:, 1]\n",
    "X3 = x_test[:, 2]\n",
    "\n",
    "terms_test = [X1**i * X2**j * X3**k for i in range(6) for j in range(6) for k in range(6) if i+j+k <= 5 and i+j+k >= 1]\n",
    "X_test = np.array(terms_test).T\n",
    "y_test_out = np.dot(X_test, w) + b\n",
    "\n",
    "print(y_test_out)"
   ]
  }
 ],
 "metadata": {
  "kernelspec": {
   "display_name": "Python 3 (ipykernel)",
   "language": "python",
   "name": "python3"
  },
  "language_info": {
   "codemirror_mode": {
    "name": "ipython",
    "version": 3
   },
   "file_extension": ".py",
   "mimetype": "text/x-python",
   "name": "python",
   "nbconvert_exporter": "python",
   "pygments_lexer": "ipython3",
   "version": "3.9.13"
  }
 },
 "nbformat": 4,
 "nbformat_minor": 5
}
