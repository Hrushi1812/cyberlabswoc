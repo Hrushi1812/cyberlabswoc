{
 "cells": [
  {
   "cell_type": "code",
   "execution_count": 2,
   "id": "1447c85d-883f-4a32-9171-b27b0b9e661e",
   "metadata": {},
   "outputs": [],
   "source": [
    "import pandas as pd\n",
    "import numpy as np"
   ]
  },
  {
   "cell_type": "code",
   "execution_count": 3,
   "id": "5761596e-a6ab-412a-966b-4187f5bc6b1f",
   "metadata": {},
   "outputs": [],
   "source": [
    "def cost(x, y, w, b):\n",
    "    m = x.shape[0]\n",
    "    f_x = np.dot(x, w) + b\n",
    "    cost = np.sum((f_x - y) ** 2)\n",
    "    cost_final = cost / (2 * m)\n",
    "    \n",
    "    return cost_final"
   ]
  },
  {
   "cell_type": "code",
   "execution_count": 4,
   "id": "cfe5c8aa-a9cf-4e3f-a73c-049fca27260f",
   "metadata": {},
   "outputs": [],
   "source": [
    "def cost_reg(x, y, w, b, lambda_):\n",
    "    m = x.shape[0]\n",
    "    \n",
    "    cost_without = cost(x, y, w, b)\n",
    "\n",
    "    cost_with = (lambda_ / (2 * m)) * np.sum(np.square(w))\n",
    "    \n",
    "    reg_cost = cost_without + cost_with\n",
    "    \n",
    "    return reg_cost"
   ]
  },
  {
   "cell_type": "code",
   "execution_count": 5,
   "id": "dbeb39cf-d77b-49f8-882b-a9f4f4d9f104",
   "metadata": {},
   "outputs": [],
   "source": [
    "def gradient(x, y, w, b):\n",
    "    \n",
    "    m,n = x.shape\n",
    "    f_x = np.dot(x, w) + b\n",
    "    er = f_x - y\n",
    "    dj_dw = np.dot(x.T, er) / m\n",
    "    dj_db = np.sum(er) / m\n",
    "    \n",
    "    return dj_dw, dj_db"
   ]
  },
  {
   "cell_type": "code",
   "execution_count": 10,
   "id": "e64d1daa-9aed-497c-93a0-e70bb2bd7f18",
   "metadata": {},
   "outputs": [],
   "source": [
    "def grad_reg(x, y, w, b, lambda_):\n",
    "    m = x.shape[0]\n",
    "    \n",
    "    dj_dw, dj_db = gradient(x, y, w, b)\n",
    "\n",
    "    dj_dw_reg = (lambda_ / m) * w\n",
    "\n",
    "    dj_dw += dj_dw_reg\n",
    "    \n",
    "    return dj_dw, dj_db"
   ]
  },
  {
   "cell_type": "code",
   "execution_count": 12,
   "id": "39174b9c-276e-4347-b95c-b1220cd68dca",
   "metadata": {},
   "outputs": [],
   "source": [
    "def grad_dec(no_of_iterations, x, y, w_ini, b_ini, alpha, lambda_):\n",
    "    m = x.shape[0]\n",
    "    w = w_ini\n",
    "    b = b_ini\n",
    "    J = []\n",
    "    \n",
    "    for i in range(no_of_iterations):\n",
    "        dj_dw, dj_db = grad_reg(x, y, w, b, lambda_)\n",
    "\n",
    "        w -= alpha * dj_dw\n",
    "        b -= alpha * dj_db\n",
    "    \n",
    "    return w, b"
   ]
  },
  {
   "cell_type": "code",
   "execution_count": 14,
   "id": "8f0f8c3e-7378-44a0-bd6c-0ce3aae6c9fe",
   "metadata": {},
   "outputs": [],
   "source": [
    "def polynomial_features(X, max_degree=5):\n",
    "    \"\"\"Generate polynomial features up to the specified degree, excluding the constant term.\"\"\"\n",
    "    terms = []\n",
    "    for i in range(1, max_degree + 1):  # Start from 1 to exclude the constant term\n",
    "        for j in range(i + 1):\n",
    "            for k in range(i - j + 1):\n",
    "                terms.append((X[:, 0] ** j) * (X[:, 1] ** k) * (X[:, 2] ** (i - j - k)))\n",
    "    return np.array(terms).T"
   ]
  },
  {
   "cell_type": "code",
   "execution_count": 16,
   "id": "00a534d0-8b6a-465e-a132-15b026df9be2",
   "metadata": {},
   "outputs": [],
   "source": [
    "data = pd.read_csv('polynomial_train.csv')\n",
    "df = data.dropna().to_numpy()  # Drop missing values if any\n",
    "\n",
    "x_train = df[0:30000, 0:3]\n",
    "x_cv = df[30000:40000, 0:3]\n",
    "x_test = df[40000:50001, 0:3]\n",
    "y_train = df[0:30000, 3]\n",
    "y_cv = df[30000:40000, 3]\n",
    "y_test = df[40000:50001, 3]"
   ]
  },
  {
   "cell_type": "code",
   "execution_count": 18,
   "id": "8f543f22-a1fe-4a78-8eed-6c6c7f41f52e",
   "metadata": {},
   "outputs": [],
   "source": [
    "X_train = polynomial_features(x_train)\n",
    "X_test = polynomial_features(x_test)\n",
    "X_cv = polynomial_features(x_cv)"
   ]
  },
  {
   "cell_type": "code",
   "execution_count": 20,
   "id": "80d1e672-0ee9-4a0d-b2ff-cb324d01c638",
   "metadata": {},
   "outputs": [
    {
     "name": "stdout",
     "output_type": "stream",
     "text": [
      "final matrix of w is [ 3.14115607e-28  6.80633342e-28  6.25752628e-27 -6.78175145e-26\n",
      " -8.18057966e-26 -9.41242232e-25 -7.50861872e-25 -1.73784558e-23\n",
      " -4.66991508e-23  1.57747034e-23  1.31890055e-23  2.09908376e-22\n",
      "  1.16016220e-21  1.30789391e-22  3.79719969e-21  2.00181592e-20\n",
      "  9.54061362e-21  7.31183414e-21  7.22144057e-20 -3.88174436e-21\n",
      " -2.49997949e-21 -5.09370571e-20 -2.01682453e-19 -1.43765962e-18\n",
      " -2.58106609e-20 -8.23258972e-19 -2.40242423e-18 -2.61739515e-18\n",
      " -2.00397709e-18  4.71669660e-20 -2.31033437e-17 -4.82364952e-18\n",
      " -8.36097849e-16 -2.35576642e-15  1.00141360e-18  5.22612792e-19\n",
      "  1.29909515e-17  3.87840308e-17  1.41124166e-16 -2.64058063e-15\n",
      "  5.57930634e-18  1.89366071e-16  3.86120101e-16  2.39735001e-15\n",
      "  8.82679408e-14  4.53017567e-16 -1.34628571e-16  5.63513457e-15\n",
      "  1.41762276e-14  1.12525118e-15  1.72264212e-13  2.92565845e-13\n",
      "  4.88155122e-13  1.43547595e-13  4.65996403e-13] and final value of b is 1.0\n"
     ]
    }
   ],
   "source": [
    "n = X_train.shape[1]\n",
    "w_ini = np.zeros(n)\n",
    "b = 1\n",
    "alpha = 7.0e-38\n",
    "lambda_ = 5\n",
    "w, b = grad_dec(no_of_iterations = 100000, x = X_train, y = y_train, w_ini = w_ini, b_ini = b, alpha = alpha, lambda_ = lambda_)\n",
    "print(f\"final matrix of w is {w} and final value of b is {b}\")"
   ]
  },
  {
   "cell_type": "code",
   "execution_count": 21,
   "id": "40beab24-4c63-4678-ba44-9974bc392348",
   "metadata": {},
   "outputs": [
    {
     "name": "stdout",
     "output_type": "stream",
     "text": [
      "RMSE: 2457.48\n"
     ]
    }
   ],
   "source": [
    "y_train_out = np.dot(X_train, w) + b\n",
    "rmse = np.sqrt(np.mean((y_train - y_train_out)**2))\n",
    "print(f\"RMSE: {rmse:.2f}\")"
   ]
  },
  {
   "cell_type": "code",
   "execution_count": 22,
   "id": "dfe0565e-526c-453a-bdb2-54299e862e1e",
   "metadata": {},
   "outputs": [
    {
     "name": "stdout",
     "output_type": "stream",
     "text": [
      "RMSE: 2497.86\n"
     ]
    }
   ],
   "source": [
    "y_cv_out = np.dot(X_cv, w) + b\n",
    "rmse = np.sqrt(np.mean((y_cv - y_cv_out)**2))\n",
    "print(f\"RMSE: {rmse:.2f}\")"
   ]
  },
  {
   "cell_type": "code",
   "execution_count": 23,
   "id": "3d73294a-7039-4881-87f4-4a0085c6cd49",
   "metadata": {},
   "outputs": [
    {
     "name": "stdout",
     "output_type": "stream",
     "text": [
      "RMSE: 2878.81\n"
     ]
    }
   ],
   "source": [
    "y_test_out = np.dot(X_test, w) + b\n",
    "rmse = np.sqrt(np.mean((y_test - y_test_out)**2))\n",
    "print(f\"RMSE: {rmse:.2f}\")"
   ]
  },
  {
   "cell_type": "code",
   "execution_count": 24,
   "id": "7d86ace2-4917-4b42-88cc-bd1a9b682ae9",
   "metadata": {},
   "outputs": [],
   "source": [
    "test_data = pd.read_csv('polynomial_test_data.csv')\n",
    "test_data = test_data.drop('ids', axis = 1)\n",
    "test_df = test_data.to_numpy()"
   ]
  },
  {
   "cell_type": "code",
   "execution_count": 25,
   "id": "a6d2d97b-fda4-4d74-ae00-5fa1c5439df0",
   "metadata": {},
   "outputs": [
    {
     "name": "stdout",
     "output_type": "stream",
     "text": [
      "[-4.88011597e+02  2.44046807e+05  4.99260485e+03 ...  1.11114193e+02\n",
      "  9.94662136e-01 -1.10645919e+05]\n"
     ]
    }
   ],
   "source": [
    "x_test = test_df[:, 0:3]\n",
    "\n",
    "X_test = polynomial_features(x_test)\n",
    "y_test_out = np.dot(X_test, w) + b\n",
    "\n",
    "print(y_test_out)"
   ]
  },
  {
   "cell_type": "code",
   "execution_count": null,
   "id": "9dbc70a7-1434-4b2a-9391-ff14d17dbc1a",
   "metadata": {},
   "outputs": [],
   "source": []
  }
 ],
 "metadata": {
  "kernelspec": {
   "display_name": "Python 3 (ipykernel)",
   "language": "python",
   "name": "python3"
  },
  "language_info": {
   "codemirror_mode": {
    "name": "ipython",
    "version": 3
   },
   "file_extension": ".py",
   "mimetype": "text/x-python",
   "name": "python",
   "nbconvert_exporter": "python",
   "pygments_lexer": "ipython3",
   "version": "3.12.4"
  }
 },
 "nbformat": 4,
 "nbformat_minor": 5
}
