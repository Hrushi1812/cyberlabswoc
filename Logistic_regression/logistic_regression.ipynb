{
 "cells": [
  {
   "cell_type": "code",
   "execution_count": 2,
   "id": "bcd037cd-16e0-4517-90ea-f405418ae5a4",
   "metadata": {},
   "outputs": [],
   "source": [
    "import numpy as np\n",
    "import pandas as pd\n",
    "from sklearn.metrics import accuracy_score, precision_score, recall_score, f1_score, confusion_matrix"
   ]
  },
  {
   "cell_type": "code",
   "execution_count": 3,
   "id": "ecdef10f-24fa-4503-a67f-76155e481eea",
   "metadata": {},
   "outputs": [],
   "source": [
    "def softmax(x):\n",
    "    # Compute the softmax of each row of the input x\n",
    "    exp_x = np.exp(x - np.max(x, axis=1, keepdims=True))\n",
    "    return exp_x / np.sum(exp_x, axis=1, keepdims=True)\n",
    "\n",
    "def logistic_regression(x, y, learning_rate=0.0001, num_iterations=1000):\n",
    "    # Initialize the weights and bias\n",
    "    num_features = x.shape[1]\n",
    "    num_classes = y.shape[1]\n",
    "    W = np.zeros((num_features, num_classes))\n",
    "    b = np.zeros(num_classes)\n",
    "    \n",
    "    # Perform gradient descent\n",
    "    for i in range(num_iterations):\n",
    "        # Compute the predicted class probabilities\n",
    "        z = np.dot(x, W) + b\n",
    "        y_hat = softmax(z)\n",
    "        \n",
    "        # Compute the gradient of the cost function with respect to W and b\n",
    "        dW = (1 / x.shape[0]) * np.dot(x.T, y_hat - y)\n",
    "        db = (1 / x.shape[0]) * np.sum(y_hat - y, axis=0)\n",
    "        \n",
    "        # Update the weights and bias\n",
    "        W = W - learning_rate * dW\n",
    "        b = b - learning_rate * db\n",
    "    \n",
    "    return W, b"
   ]
  },
  {
   "cell_type": "code",
   "execution_count": 4,
   "id": "67fd259e-cd45-4f26-88a4-d30afc154af9",
   "metadata": {},
   "outputs": [],
   "source": [
    "def predict_multiclass(X, W, b): \n",
    "    z = np.dot(X, W) + b\n",
    "    y_hat = softmax(z)\n",
    "    predictions = np.argmax(y_hat, axis=1)  # Returns the index of the highest probability class\n",
    "    \n",
    "    return predictions"
   ]
  },
  {
   "cell_type": "code",
   "execution_count": 5,
   "id": "292ce500-3f97-4796-9bdb-70c4538fd67f",
   "metadata": {},
   "outputs": [],
   "source": [
    "def evaluate_model(y_true, y_pred):\n",
    "    accuracy = accuracy_score(y_true, y_pred)\n",
    "    precision_macro = precision_score(y_true, y_pred, average='macro')\n",
    "    precision_micro = precision_score(y_true, y_pred, average='micro')\n",
    "    precision_weighted = precision_score(y_true, y_pred, average='weighted')\n",
    "    recall_macro = recall_score(y_true, y_pred, average='macro')\n",
    "    recall_micro = recall_score(y_true, y_pred, average='micro')\n",
    "    recall_weighted = recall_score(y_true, y_pred, average='weighted')\n",
    "    f1_macro = f1_score(y_true, y_pred, average='macro')\n",
    "    f1_micro = f1_score(y_true, y_pred, average='micro')\n",
    "    f1_weighted = f1_score(y_true, y_pred, average='weighted')\n",
    "    conf_matrix = confusion_matrix(y_true, y_pred)\n",
    "    \n",
    "    print(f'Accuracy: {accuracy:.4f}')\n",
    "    print(f'Precision (Macro): {precision_macro:.4f}')\n",
    "    print(f'Precision (Micro): {precision_micro:.4f}')\n",
    "    print(f'Precision (Weighted): {precision_weighted:.4f}')\n",
    "    print(f'Recall (Macro): {recall_macro:.4f}')\n",
    "    print(f'Recall (Micro): {recall_micro:.4f}')\n",
    "    print(f'Recall (Weighted): {recall_weighted:.4f}')\n",
    "    print(f'F1 Score (Macro): {f1_macro:.4f}')\n",
    "    print(f'F1 Score (Micro): {f1_micro:.4f}')\n",
    "    print(f'F1 Score (Weighted): {f1_weighted:.4f}')\n",
    "    print('Confusion Matrix:')\n",
    "    print(conf_matrix)"
   ]
  },
  {
   "cell_type": "code",
   "execution_count": 12,
   "id": "01f02a7f-9ef3-48b8-9e22-9bc32450d612",
   "metadata": {},
   "outputs": [],
   "source": [
    "data = pd.read_csv('classification_train.csv')\n",
    "df = data.to_numpy()"
   ]
  },
  {
   "cell_type": "code",
   "execution_count": 14,
   "id": "d94c800a-519f-47bc-8470-feee69798bfc",
   "metadata": {},
   "outputs": [
    {
     "data": {
      "text/plain": [
       "((30000, 784), (30000, 10))"
      ]
     },
     "execution_count": 14,
     "metadata": {},
     "output_type": "execute_result"
    }
   ],
   "source": [
    "data = data.drop(columns=['Unnamed: 0'])\n",
    "\n",
    "y_train = data['label']\n",
    "\n",
    "x_train = data.drop(columns=['label'])\n",
    "\n",
    "# Convert y_train to one-hot encoding\n",
    "y_train_onehot = pd.get_dummies(y_train)\n",
    "\n",
    "# Convert to numpy arrays for training\n",
    "x_train = x_train.to_numpy()\n",
    "y_train = y_train_onehot.to_numpy()\n",
    "\n",
    "# Output the shapes to confirm\n",
    "x_train.shape, y_train.shape"
   ]
  },
  {
   "cell_type": "code",
   "execution_count": 16,
   "id": "fb816eb9-0f79-43f5-b4b9-e25199f2791e",
   "metadata": {},
   "outputs": [
    {
     "name": "stdout",
     "output_type": "stream",
     "text": [
      "final matrix of w is [[-1.28099741e-06 -2.76154527e-07 -1.34562372e-05 ... -3.63525660e-08\n",
      "  -1.83417508e-06 -6.18867787e-08]\n",
      " [ 2.43023555e-05 -3.41432035e-06 -3.28711575e-05 ... -2.32687762e-07\n",
      "   3.52397007e-06  2.48128181e-06]\n",
      " [ 2.06739393e-04 -1.85512378e-05 -4.21151565e-07 ... -1.26071281e-06\n",
      "  -8.43397639e-04 -1.03873152e-05]\n",
      " ...\n",
      " [-2.22058855e-03 -7.65038266e-04  4.38492876e-03 ... -2.17060912e-04\n",
      "  -3.36243732e-03  3.58737336e-04]\n",
      " [-7.22118143e-04 -4.13073558e-04  2.21557187e-03 ... -9.96814586e-05\n",
      "  -2.64499528e-03 -2.56472761e-04]\n",
      " [-2.66718502e-05 -3.24277174e-05  7.46475714e-04 ... -1.11875544e-05\n",
      "  -7.31206630e-04 -4.86697017e-05]] and final value of b is [ 1.06629094e-04 -4.82661215e-05  1.68854450e-05  1.16811901e-04\n",
      " -6.51155138e-04  6.29645200e-04  3.77466587e-04 -8.29655381e-05\n",
      " -1.20306895e-04 -3.44744534e-04]\n"
     ]
    }
   ],
   "source": [
    "W, b = logistic_regression(x_train, y_train)\n",
    "print(f\"final matrix of w is {W} and final value of b is {b}\")"
   ]
  },
  {
   "cell_type": "code",
   "execution_count": 17,
   "id": "175b8729-3d4f-4dba-a02c-93849f6e6835",
   "metadata": {},
   "outputs": [
    {
     "name": "stdout",
     "output_type": "stream",
     "text": [
      "Largest Prediction index for each row: [7 4 1 ... 9 4 0]\n"
     ]
    }
   ],
   "source": [
    "predictions = predict_multiclass(x_train, W, b)\n",
    "print(f\"Largest Prediction index for each row: {predictions}\")"
   ]
  },
  {
   "cell_type": "code",
   "execution_count": 22,
   "id": "3e3906f4-c229-45cb-8f9a-d555c624b77b",
   "metadata": {},
   "outputs": [
    {
     "name": "stdout",
     "output_type": "stream",
     "text": [
      "Accuracy: 0.8142\n",
      "Precision (Macro): 0.8440\n",
      "Precision (Micro): 0.8142\n",
      "Precision (Weighted): 0.8440\n",
      "Recall (Macro): 0.8142\n",
      "Recall (Micro): 0.8142\n",
      "Recall (Weighted): 0.8142\n",
      "F1 Score (Macro): 0.8149\n",
      "F1 Score (Micro): 0.8142\n",
      "F1 Score (Weighted): 0.8149\n",
      "Confusion Matrix:\n",
      "[[1784   42   26  340   15    3  734    1   55    0]\n",
      " [   0 2906    0   73    4    0   13    0    4    0]\n",
      " [  12   26 1488  105  497    3  810    0   59    0]\n",
      " [  10   46    5 2718   57    0  156    0    8    0]\n",
      " [   1   15   69  150 1899    0  849    0   17    0]\n",
      " [   2    1    0    5    0 2791    5   91   34   71]\n",
      " [ 126   20   92  161  144    2 2403    0   51    1]\n",
      " [   0    0    0    0    0  135    0 2734    8  123]\n",
      " [   2    4    1   29    9   13   90   10 2840    2]\n",
      " [   0    2    0    1    0   49    4   78    2 2864]]\n"
     ]
    }
   ],
   "source": [
    "evaluate_model(y_train_onehot.idxmax(axis=1), predictions)"
   ]
  },
  {
   "cell_type": "code",
   "execution_count": null,
   "id": "34fe5138-b0b9-4776-b3e5-dabacfa725ee",
   "metadata": {},
   "outputs": [],
   "source": [
    "test_data = pd.read_csv('classification_test.csv')\n",
    "test_df = test_data.to_numpy()"
   ]
  },
  {
   "cell_type": "code",
   "execution_count": null,
   "id": "fa29a6d9-3b1f-4377-80d3-366517112b9b",
   "metadata": {},
   "outputs": [],
   "source": [
    "x_test = test_df[:, 1:]  \n",
    "\n",
    "# Predict on test data\n",
    "predictions = predict_multiclass(x_test, W, b)\n",
    "print(f\"Largest Prediction index for each row: {predictions}\")"
   ]
  }
 ],
 "metadata": {
  "kernelspec": {
   "display_name": "Python 3 (ipykernel)",
   "language": "python",
   "name": "python3"
  },
  "language_info": {
   "codemirror_mode": {
    "name": "ipython",
    "version": 3
   },
   "file_extension": ".py",
   "mimetype": "text/x-python",
   "name": "python",
   "nbconvert_exporter": "python",
   "pygments_lexer": "ipython3",
   "version": "3.12.4"
  }
 },
 "nbformat": 4,
 "nbformat_minor": 5
}
