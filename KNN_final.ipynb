{
 "cells": [
  {
   "cell_type": "code",
   "execution_count": 5,
   "id": "5e4e42ae",
   "metadata": {},
   "outputs": [],
   "source": [
    "import numpy as np\n",
    "import pandas as pd\n",
    "import matplotlib.pyplot as plt"
   ]
  },
  {
   "cell_type": "code",
   "execution_count": 6,
   "id": "4020fac1",
   "metadata": {},
   "outputs": [],
   "source": [
    "def minkowski_distance(x, i, p):\n",
    "    distance2 = np.sum(np.power(x-x[i], 2), axis = 1)\n",
    "    distance = np.power(distance2, 1/p)\n",
    "    return distance"
   ]
  },
  {
   "cell_type": "code",
   "execution_count": 7,
   "id": "683eba4e",
   "metadata": {},
   "outputs": [],
   "source": [
    "z = []\n",
    "def regression(x, k):\n",
    "    for i in range(x_train.shape[0]):\n",
    "        y = x[:k, i]\n",
    "        z = np.mean(y)\n",
    "    return z"
   ]
  },
  {
   "cell_type": "code",
   "execution_count": 8,
   "id": "5bdfb1c6",
   "metadata": {},
   "outputs": [],
   "source": [
    "data = pd.read_csv('linear_train.csv')\n",
    "df = data.to_numpy()"
   ]
  },
  {
   "cell_type": "code",
   "execution_count": 9,
   "id": "5f1ac178-afd6-4755-86c0-9596c367c1af",
   "metadata": {},
   "outputs": [],
   "source": [
    "x_train = df[:, 0:21]\n",
    "y_train = df[:, 21]"
   ]
  },
  {
   "cell_type": "code",
   "execution_count": null,
   "id": "6609d24a",
   "metadata": {},
   "outputs": [],
   "source": [
    "distances_1 = []\n",
    "for i in range(x_train.shape[0]):\n",
    "    x_b = x_train - x_train[i]\n",
    "    distance_1 = np.linalg.norm(x_b, axis =1)\n",
    "    distances_1.append(distance_1)\n",
    "print(distances_1)"
   ]
  },
  {
   "cell_type": "code",
   "execution_count": null,
   "id": "dd9289f4",
   "metadata": {},
   "outputs": [],
   "source": [
    "# for distances other than euclidean distance\n",
    "distance_2 = []\n",
    "for i in range(x_train.shape[0]):\n",
    "    distances = minkowski_distance(x_train, i, 2)\n",
    "    distance_2.append(distances)"
   ]
  },
  {
   "cell_type": "code",
   "execution_count": null,
   "id": "cb89559f",
   "metadata": {},
   "outputs": [],
   "source": [
    "for i in range(x_train.shape[0]):\n",
    "    distances = distances_1[distances_1[:,i].argsort()]\n",
    "print(distances)"
   ]
  },
  {
   "cell_type": "code",
   "execution_count": null,
   "id": "2bf00b41",
   "metadata": {},
   "outputs": [],
   "source": [
    "r = regression(distances, 4)\n",
    "r = r.to_numpy()\n",
    "print(r)\n"
   ]
  },
  {
   "cell_type": "code",
   "execution_count": null,
   "id": "5e6db2d3-bd4a-4cb6-9416-fd67791b3a2b",
   "metadata": {},
   "outputs": [],
   "source": [
    "Mean_absolute_error = np.mean(np.abs(r - y_hat))"
   ]
  }
 ],
 "metadata": {
  "kernelspec": {
   "display_name": "Python 3 (ipykernel)",
   "language": "python",
   "name": "python3"
  },
  "language_info": {
   "codemirror_mode": {
    "name": "ipython",
    "version": 3
   },
   "file_extension": ".py",
   "mimetype": "text/x-python",
   "name": "python",
   "nbconvert_exporter": "python",
   "pygments_lexer": "ipython3",
   "version": "3.9.13"
  }
 },
 "nbformat": 4,
 "nbformat_minor": 5
}
